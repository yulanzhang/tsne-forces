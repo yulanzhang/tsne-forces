{
 "cells": [
  {
   "cell_type": "code",
   "execution_count": null,
   "metadata": {},
   "outputs": [],
   "source": [
    "import matplotlib.pyplot as plt\n",
    "import numpy as np\n",
    "import os\n",
    "import sys\n",
    "\n",
    "from matplotlib import cm\n",
    "from matplotlib.colors import Normalize\n",
    "from matplotlib.colorbar import ColorbarBase\n",
    "from matplotlib.ticker import FuncFormatter\n",
    "from scipy.spatial.distance import pdist, squareform\n",
    "from sklearn.preprocessing import normalize\n",
    "from sklearn.neighbors import NearestNeighbors\n",
    "\n",
    "sys.path.append('../src')\n",
    "from dataset_utils import loadlocal_mnist, loadlocal_mnist_classes, generate_gaussians\n",
    "from math_utils import pca\n",
    "from plot_utils import plot_mean_images, plot_reference_grid\n",
    "from plot_utils import plot_blind, plot_ground_truth\n",
    "from plot_utils import plot_attraction_magnitude, plot_attraction_directions, plot_polar_colormap, plot_attraction_vectors, plot_repulsion_vectors \n",
    "from tsne_utils import compute_attraction_directions\n",
    "\n",
    "from constants import TSNE_PATH\n",
    "sys.path.append(TSNE_PATH)\n",
    "from fast_tsne import fast_tsne"
   ]
  },
  {
   "cell_type": "code",
   "execution_count": null,
   "metadata": {},
   "outputs": [],
   "source": [
    "# Toy dataset of two 1000-dim gaussians with means \n",
    "# mu_1 = 3e_1 and mu_2 = 3e_2, unit covariance.\n",
    "\n",
    "ndims = 1000\n",
    "mu1 = np.zeros(ndims)\n",
    "mu1[0] = 3\n",
    "mu2 = np.zeros(ndims)\n",
    "mu2[1] = 3\n",
    "\n",
    "mus = [mu1, mu2]\n",
    "covs = [np.eye(ndims), np.eye(ndims)]\n",
    "X, lab = generate_gaussians(mus, covs, n=6000)\n",
    "X = pca(X, n_dims=50)"
   ]
  },
  {
   "cell_type": "code",
   "execution_count": null,
   "metadata": {},
   "outputs": [],
   "source": [
    "# Most of the t-SNE embeddings in the force colorings\n",
    "# section of the paper were generated using these\n",
    "# parameters. The choice of [sigma=1e10] came from some of\n",
    "# our earlier experiments, since we were thinking about\n",
    "# the structure of P and this sigma makes P kind of look\n",
    "# like an adjacency matrix. The exact values of the \n",
    "# parameters should not limit the potential usefulness \n",
    "# of force colorings for analyzing force-based embeddings.\n",
    "\n",
    "# It is important to set [load_affinities='save'], as the\n",
    "# functions for plotting force colorings assume that the\n",
    "# matrix P is saved in the current working directory. \n",
    "\n",
    "FRAC = 0.01\n",
    "K=int(FRAC * X.shape[0])\n",
    "%time Y = fast_tsne(X, early_exag_coeff=12, K=K, sigma=1e10, load_affinities='save')"
   ]
  },
  {
   "cell_type": "code",
   "execution_count": null,
   "metadata": {
    "scrolled": true
   },
   "outputs": [],
   "source": [
    "# Plot the t-SNE embedding. See [src/plot_utils/plots.py].\n",
    "\n",
    "plot_blind(Y, suptitle='unlabeled embedding')\n",
    "plot_ground_truth(Y, lab, cmap='rainbow', suptitle='ground truth')"
   ]
  },
  {
   "cell_type": "code",
   "execution_count": null,
   "metadata": {},
   "outputs": [],
   "source": [
    "# force colorings\n",
    "plot_attraction_magnitude(Y)"
   ]
  },
  {
   "cell_type": "code",
   "execution_count": null,
   "metadata": {},
   "outputs": [],
   "source": [
    "plot_attraction_directions(Y)\n",
    "plot_polar_colormap(fig_scale=2)"
   ]
  },
  {
   "cell_type": "code",
   "execution_count": null,
   "metadata": {
    "scrolled": true
   },
   "outputs": [],
   "source": [
    "colorbar_kwargs = {'format':'%.0e', 'orientation':'vertical', 'pad':0.0, 'aspect':40}\n",
    "plot_attraction_vectors(Y, fig_len=20, fig_width=20, ax_off=True, colorbar_kwargs=colorbar_kwargs)"
   ]
  },
  {
   "cell_type": "code",
   "execution_count": null,
   "metadata": {},
   "outputs": [],
   "source": [
    "# attraction and repulsion cancel\n",
    "plot_repulsion_vectors(Y, fig_len=20, fig_width=20, ax_off=True, colorbar_kwargs=colorbar_kwargs)"
   ]
  },
  {
   "cell_type": "code",
   "execution_count": null,
   "metadata": {},
   "outputs": [],
   "source": []
  },
  {
   "cell_type": "code",
   "execution_count": null,
   "metadata": {},
   "outputs": [],
   "source": [
    "# Let's also generate plots for some MNIST clusters.\n",
    "\n",
    "X, lab = loadlocal_mnist_classes([1,5], n=None, seed=None)\n",
    "X_red = pca(X, n_dims=50)\n",
    "\n",
    "FRAC = 0.01\n",
    "K=int(FRAC * X.shape[0])\n",
    "%time Y = fast_tsne(X_red, early_exag_coeff=12, perplexity=-1, K=K, sigma=1e10, load_affinities='save')"
   ]
  },
  {
   "cell_type": "code",
   "execution_count": null,
   "metadata": {},
   "outputs": [],
   "source": [
    "plot_blind(Y, suptitle='unlabeled embedding')\n",
    "plot_ground_truth(Y, lab, cmap='rainbow', suptitle='ground truth')"
   ]
  },
  {
   "cell_type": "code",
   "execution_count": null,
   "metadata": {},
   "outputs": [],
   "source": [
    "plot_attraction_magnitude(Y)\n",
    "plot_attraction_directions(Y)"
   ]
  },
  {
   "cell_type": "code",
   "execution_count": null,
   "metadata": {
    "scrolled": true
   },
   "outputs": [],
   "source": [
    "colorbar_kwargs = {'format':'%.0e', 'orientation':'vertical', 'pad':0.0, 'aspect':40}\n",
    "plot_attraction_vectors(Y, fig_len=20, fig_width=20, ax_off=True, colorbar_kwargs=colorbar_kwargs)"
   ]
  },
  {
   "cell_type": "code",
   "execution_count": null,
   "metadata": {},
   "outputs": [],
   "source": []
  },
  {
   "cell_type": "code",
   "execution_count": null,
   "metadata": {},
   "outputs": [],
   "source": [
    "# Examine MNIST images\n",
    "attraction_directions = compute_attraction_directions(Y)\n",
    "plot_reference_grid(Y, lab, attraction_directions, cmap='hsv', cell_width=10, cell_height=10)\n"
   ]
  },
  {
   "cell_type": "code",
   "execution_count": null,
   "metadata": {},
   "outputs": [],
   "source": [
    "# plot mean image in each grid cell \n",
    "plot_mean_images(X, Y, (28,28), cell_width=10, cell_height=10, fig_scale=1, show_counts=True)"
   ]
  },
  {
   "cell_type": "code",
   "execution_count": null,
   "metadata": {},
   "outputs": [],
   "source": []
  }
 ],
 "metadata": {
  "kernelspec": {
   "display_name": "Python 3",
   "language": "python",
   "name": "python3"
  },
  "language_info": {
   "codemirror_mode": {
    "name": "ipython",
    "version": 3
   },
   "file_extension": ".py",
   "mimetype": "text/x-python",
   "name": "python",
   "nbconvert_exporter": "python",
   "pygments_lexer": "ipython3",
   "version": "3.7.4"
  }
 },
 "nbformat": 4,
 "nbformat_minor": 2
}
