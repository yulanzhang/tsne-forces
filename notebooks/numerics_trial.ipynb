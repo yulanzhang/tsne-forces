{
 "cells": [
  {
   "cell_type": "code",
   "execution_count": null,
   "metadata": {},
   "outputs": [],
   "source": [
    "import os\n",
    "import numpy as np\n",
    "import sys\n",
    "\n",
    "from networkx import erdos_renyi_graph, random_regular_graph\n",
    "from networkx.convert_matrix import to_scipy_sparse_matrix\n",
    "\n",
    "sys.path.append('../src')\n",
    "from dataset_utils import generate_gaussians\n",
    "from graph_tsne import graph_tsne\n",
    "from numerics import *\n",
    "from plot_utils import plot_heatmap\n",
    "from tsne_utils import compute_attraction_directions, compute_attraction_magnitudes"
   ]
  },
  {
   "cell_type": "code",
   "execution_count": null,
   "metadata": {},
   "outputs": [],
   "source": [
    "# Set params\n",
    "n = 10000\n",
    "p = 0.01\n",
    "\n",
    "# used for random regular graph model\n",
    "d = int(n*p)"
   ]
  },
  {
   "cell_type": "code",
   "execution_count": null,
   "metadata": {},
   "outputs": [],
   "source": [
    "# Uncomment for erdos renyi graph\n",
    "# graph = erdos_renyi_graph(n, p)\n",
    "\n",
    "# Uncomment for random regular graph\n",
    "# graph = random_regular_graph(d, n)\n",
    "\n",
    "graph = to_scipy_sparse_matrix(graph)"
   ]
  },
  {
   "cell_type": "code",
   "execution_count": null,
   "metadata": {},
   "outputs": [],
   "source": [
    "# [graph_tsne] calls Fit-SNE by loading input affinities\n",
    "# calculated from the adjacency matrix of a graph from \n",
    "# file. This does not make use of an input dataset [X]; \n",
    "# however, Fit-SNE expects this argument to be present \n",
    "# so we pass in an arbitrary dataset as [X]. \n",
    "mus = [[0,0]]\n",
    "covs = [np.eye(2)]\n",
    "X, _ = generate_gaussians(mus, covs, n=n)\n",
    "\n",
    "kwargs = {'early_exag_coeff':12.0, 'max_iter':1000}\n",
    "%time Y = graph_tsne(X, graph, kwargs=kwargs)"
   ]
  },
  {
   "cell_type": "code",
   "execution_count": null,
   "metadata": {},
   "outputs": [],
   "source": [
    "# Plot \n",
    "\n",
    "attraction_magnitudes = compute_attraction_magnitudes(Y)\n",
    "plot_heatmap(Y, attraction_magnitudes, \"attraction\")\n",
    "\n",
    "attraction_directions = compute_attraction_directions(Y)\n",
    "plot_heatmap(Y, attraction_directions, \"attraction\", cmap='hsv')"
   ]
  },
  {
   "cell_type": "code",
   "execution_count": null,
   "metadata": {},
   "outputs": [],
   "source": [
    "graph = graph.toarray()\n",
    "\n",
    "# Normalized adjacency matrix entry\n",
    "edge_wt = 1.0 / (np.sum(graph))\n",
    "\n",
    "# Compute numerics\n",
    "energy = compute_energy(Y, graph, edge_wt, p)\n",
    "expected_energy = compute_expected_energy(Y, graph, edge_wt, p)\n",
    "variance = compute_variance(Y, edge_wt, p)"
   ]
  },
  {
   "cell_type": "code",
   "execution_count": null,
   "metadata": {},
   "outputs": [],
   "source": [
    "print(\"energy: {}\".format(energy))\n",
    "print(\"expected_energy: {}\".format(expected_energy))\n",
    "print(\"variance: {}\".format(variance))"
   ]
  },
  {
   "cell_type": "code",
   "execution_count": null,
   "metadata": {},
   "outputs": [],
   "source": []
  }
 ],
 "metadata": {
  "kernelspec": {
   "display_name": "Python 3",
   "language": "python",
   "name": "python3"
  },
  "language_info": {
   "codemirror_mode": {
    "name": "ipython",
    "version": 3
   },
   "file_extension": ".py",
   "mimetype": "text/x-python",
   "name": "python",
   "nbconvert_exporter": "python",
   "pygments_lexer": "ipython3",
   "version": "3.7.4"
  }
 },
 "nbformat": 4,
 "nbformat_minor": 2
}
