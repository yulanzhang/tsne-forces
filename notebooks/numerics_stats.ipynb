{
 "cells": [
  {
   "cell_type": "markdown",
   "metadata": {},
   "source": [
    "Use this notebook to generate section 5 plots from the output of [scripts/erdos_renyi.py] or [scripts/random_regular.py]."
   ]
  },
  {
   "cell_type": "code",
   "execution_count": null,
   "metadata": {},
   "outputs": [],
   "source": [
    "import numpy as np\n",
    "import matplotlib.pyplot as plt\n",
    "import pandas as pd\n",
    "import os\n",
    "import shutil\n",
    "import sys\n",
    "\n",
    "# Add src to path\n",
    "sys.path.append('../scripts')\n",
    "from trials_utils import STATS_FILE\n",
    "\n",
    "# Uncomment for erdos renyi experiment\n",
    "from erdos_renyi import EXPERIMENT_DIR\n",
    "# Uncomment for random regular experiment\n",
    "# from random_regular import EXPERIMENT_DIR"
   ]
  },
  {
   "cell_type": "code",
   "execution_count": null,
   "metadata": {},
   "outputs": [],
   "source": [
    "STATS_PATH = os.path.join(EXPERIMENT_DIR, STATS_FILE)"
   ]
  },
  {
   "cell_type": "code",
   "execution_count": null,
   "metadata": {},
   "outputs": [],
   "source": [
    "def plot_by_n(df, ns, xcol, ycol, xname=None, yname=None, offset_x=False, legend=False, savepath=None):\n",
    "    '''\n",
    "    Plot ycol vs. xcol for each value of n in df.\n",
    "    '''\n",
    "    offset = 0.001*(len(ns)//2)\n",
    "    fig, ax = plt.subplots(nrows=1, ncols=1)\n",
    "    for i,n in enumerate(ns):\n",
    "        subset = df[df['n'] == n]\n",
    "        xs = subset[xcol] - offset + i*0.001 if offset_x else subset[xcol]   \n",
    "        ax.scatter(xs, subset[ycol], marker='x', c='C{}'.format(i), label='n={}'.format(n))\n",
    "\n",
    "    if legend:\n",
    "        ax.legend()\n",
    "    xname = xcol if xname is None else xname\n",
    "    ax.set_xlabel(xname)\n",
    "    yname = ycol if yname is None else yname\n",
    "    ax.set_ylabel(yname)\n",
    "    if savepath is not None:\n",
    "        plt.savefig(savepath)\n",
    "    plt.show()"
   ]
  },
  {
   "cell_type": "code",
   "execution_count": null,
   "metadata": {},
   "outputs": [],
   "source": [
    "df = pd.read_csv(STATS_PATH)\n",
    "df['sigma'] = (df['energy'] - df['expected_energy']) / np.sqrt(df['variance'])\n",
    "df['sigma_taylor'] = (df['energy'] - df['expected_energy_taylor']) / np.sqrt(df['variance_taylor'])\n",
    "df"
   ]
  },
  {
   "cell_type": "code",
   "execution_count": null,
   "metadata": {},
   "outputs": [],
   "source": [
    "ns = range(10000, 50000, 10000)\n",
    "plot_by_n(df, ns, 'p', 'energy')\n",
    "plot_by_n(df, ns, 'p', 'expected_energy')\n",
    "plot_by_n(df, ns, 'p', 'variance', yname='variance', legend=True)\n",
    "plot_by_n(df, ns, 'p', 'sigma', yname='\\u03C3', offset_x=True)"
   ]
  },
  {
   "cell_type": "code",
   "execution_count": null,
   "metadata": {},
   "outputs": [],
   "source": [
    "# verify that energy - expected is small\n",
    "\n",
    "fig, ax = plt.subplots(nrows=1, ncols=1)\n",
    "offset = 0.001*(len(ns)//2)\n",
    "for i,n in enumerate(ns):\n",
    "    subset = df[df['n'] == n] \n",
    "    xs = subset['p'] - offset + i*0.001\n",
    "    ax.scatter(xs, subset['energy'] - subset['expected_energy'], marker='x', c='C{}'.format(i), label='n={}'.format(n))\n",
    "\n",
    "ax.set_xlabel('p')\n",
    "ax.set_ylabel('energy - expected_energy')\n",
    "plt.show()"
   ]
  },
  {
   "cell_type": "code",
   "execution_count": null,
   "metadata": {},
   "outputs": [],
   "source": [
    "# plot taylor approximations\n",
    "plot_by_n(df, ns, 'p', 'expected_energy_taylor')\n",
    "plot_by_n(df, ns, 'p', 'variance_taylor')\n",
    "plot_by_n(df, ns, 'p', 'sigma_taylor')"
   ]
  },
  {
   "cell_type": "code",
   "execution_count": null,
   "metadata": {},
   "outputs": [],
   "source": [
    "# If taylor approximation is accurate, we expect these plots to be linear\n",
    "plot_by_n(df, ns, 'expected_energy_taylor', 'expected_energy')\n",
    "plot_by_n(df, ns, 'variance_taylor', 'variance')\n",
    "plot_by_n(df, ns, 'sigma_taylor', 'sigma')"
   ]
  },
  {
   "cell_type": "code",
   "execution_count": null,
   "metadata": {},
   "outputs": [],
   "source": []
  }
 ],
 "metadata": {
  "kernelspec": {
   "display_name": "Python 3",
   "language": "python",
   "name": "python3"
  },
  "language_info": {
   "codemirror_mode": {
    "name": "ipython",
    "version": 3
   },
   "file_extension": ".py",
   "mimetype": "text/x-python",
   "name": "python",
   "nbconvert_exporter": "python",
   "pygments_lexer": "ipython3",
   "version": "3.7.4"
  }
 },
 "nbformat": 4,
 "nbformat_minor": 2
}
